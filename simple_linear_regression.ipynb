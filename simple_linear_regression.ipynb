{
  "nbformat": 4,
  "nbformat_minor": 0,
  "metadata": {
    "colab": {
      "name": "simple linear regression",
      "provenance": [],
      "authorship_tag": "ABX9TyMdd+OXWgZhsaOxxyMHVUr2",
      "include_colab_link": true
    },
    "kernelspec": {
      "name": "python3",
      "display_name": "Python 3"
    }
  },
  "cells": [
    {
      "cell_type": "markdown",
      "metadata": {
        "id": "view-in-github",
        "colab_type": "text"
      },
      "source": [
        "<a href=\"https://colab.research.google.com/github/shamiktiwari/Regression/blob/master/simple_linear_regression.ipynb\" target=\"_parent\"><img src=\"https://colab.research.google.com/assets/colab-badge.svg\" alt=\"Open In Colab\"/></a>"
      ]
    },
    {
      "cell_type": "code",
      "metadata": {
        "id": "vmgmeklHQrey",
        "colab_type": "code",
        "colab": {
          "base_uri": "https://localhost:8080/",
          "height": 789
        },
        "outputId": "3a454de5-7ff0-4bdf-9813-43667c45d33c"
      },
      "source": [
        "import numpy as np\n",
        "import pandas as pd\n",
        "import matplotlib.pyplot as plt\n",
        "X=[1, 2, 3, 4, 5, 6, 7, 8, 9, 10]\n",
        "Y=[5,11,14,20.2,23.2,28.4,33.8,41.2,45.08,50.09]\n",
        "mean_x = np.mean(X)\n",
        "mean_y = np.mean(Y)\n",
        "n = len(X)\n",
        "numer = 0\n",
        "denom = 0\n",
        "for i in range(n):\n",
        " numer += (X[i] - mean_x) * (Y[i] - mean_y)\n",
        " denom += (X[i] - mean_x) ** 2\n",
        "m = numer / denom\n",
        "c = mean_y - (m * mean_x)\n",
        "print(\"Coefficients\")\n",
        "print(m, c)\n",
        "x = np.linspace(np.min(X)-1, np.max(X)+1, 100)\n",
        "y = c + m * x\n",
        "plt.plot(x, y, color='b', label='Regression Line')\n",
        "plt.scatter(X, Y, c='g', label='Scatter Plot')\n",
        "plt.xlabel('X')\n",
        "plt.ylabel('Y')\n",
        "plt.legend()\n",
        "plt.show()\n",
        "\n",
        "y=c+m*5.5\n",
        "y\n",
        "y=c+m*8.5\n",
        "y\n",
        "\n",
        "for i in range(n):\n",
        "    y_pred = c + m * X[i]\n",
        "    ae= abs(Y[i] - y_pred)\n",
        "    print(\"Absolute Error\")\n",
        "    print(ae)\n",
        "\n",
        "sae=0\n",
        "for i in range(n):\n",
        "    y_pred = c + m * X[i]\n",
        "    sae+= abs(Y[i] - y_pred)\n",
        "\n",
        "print(\"SUM Absolute Error\")\n",
        "print(sae)    \n",
        "    \n",
        "    \n",
        "sse = 0\n",
        "for i in range(n):\n",
        "    y_pred = c + m * X[i]\n",
        "    sse += (Y[i] - y_pred) ** 2\n",
        "print(\"SSE\")\n",
        "print(sse)\n",
        "\n",
        "\n",
        "mse = 0\n",
        "for i in range(n):\n",
        "    y_pred = c + m * X[i]\n",
        "    mse += (Y[i] - y_pred) ** 2\n",
        "mse = mse/n\n",
        "print(\"MSE\")\n",
        "print(mse)\n",
        "\n",
        "rmse = 0\n",
        "for i in range(n):\n",
        "    y_pred = c + m * X[i]\n",
        "    rmse += (Y[i] - y_pred) ** 2\n",
        "rmse = np.sqrt(rmse/n)\n",
        "print(\"RMSE\")\n",
        "print(rmse)\n"
      ],
      "execution_count": 1,
      "outputs": [
        {
          "output_type": "stream",
          "text": [
            "Coefficients\n",
            "5.00830303030303 -0.3486666666666629\n"
          ],
          "name": "stdout"
        },
        {
          "output_type": "display_data",
          "data": {
            "image/png": "[encoded data removed]",
            "text/plain": [
              "<Figure size 432x288 with 1 Axes>"
            ]
          },
          "metadata": {
            "tags": [],
            "needs_background": "light"
          }
        },
        {
          "output_type": "stream",
          "text": [
            "Absolute Error\n",
            "0.34036363636363287\n",
            "Absolute Error\n",
            "1.3320606060606028\n",
            "Absolute Error\n",
            "0.6762424242424281\n",
            "Absolute Error\n",
            "0.5154545454545421\n",
            "Absolute Error\n",
            "1.492848484848487\n",
            "Absolute Error\n",
            "1.3011515151515205\n",
            "Absolute Error\n",
            "0.9094545454545511\n",
            "Absolute Error\n",
            "1.482242424242429\n",
            "Absolute Error\n",
            "0.35393939393938467\n",
            "Absolute Error\n",
            "0.3556363636363642\n",
            "SUM Absolute Error\n",
            "8.759393939393942\n",
            "SSE\n",
            "9.810722424242453\n",
            "MSE\n",
            "0.9810722424242453\n",
            "RMSE\n",
            "0.9904909098140403\n"
          ],
          "name": "stdout"
        }
      ]
    }
  ]
}